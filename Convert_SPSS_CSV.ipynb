{
 "cells": [
  {
   "cell_type": "markdown",
   "metadata": {},
   "source": [
    "### Converting_SPSS_file_format_to_CSV_file_format"
   ]
  },
  {
   "cell_type": "markdown",
   "metadata": {},
   "source": [
    "Converting .sav file format into csv file format.  Maybe We’ve had the experience of going through a folder full of dozens, hundreds, or even thousands of SPSS(.sav) files and copying, renaming, moving, or compressing them all by hand to CSV file format tokk hard time. This code simplifies these challenges.\n",
    "\n",
    "\n",
    "Therefore, \n",
    "---\n",
    "- All these can be automated in Python.\n",
    "- By programming our computer to do these tasks,we can transform it into csv\n",
    "- Avoiding making  mistakes.\n",
    "\n",
    "Applying the same technique we can convert one file format into other file format.\n",
    "-------"
   ]
  },
  {
   "cell_type": "code",
   "execution_count": 6,
   "metadata": {},
   "outputs": [
    {
     "data": {
      "text/plain": [
       "['temprate.csv',\n",
       " 'casandtraffic.csv',\n",
       " 'child_data.csv',\n",
       " 'distance.csv',\n",
       " 'shoppostage.csv',\n",
       " 'eutax.csv']"
      ]
     },
     "execution_count": 6,
     "metadata": {},
     "output_type": "execute_result"
    }
   ],
   "source": [
    "\n",
    "\n",
    "# Importing libraries\n",
    "import pandas as pd\n",
    "import pyreadstat as pyr\n",
    "import os\n",
    "\n",
    " #Convering the SPSS(.sav) files into CSV files\n",
    "def converting_files(path):\n",
    "    dataframes = []\n",
    "    metas = []\n",
    "    files=[]\n",
    "    #files = path. \n",
    "    for filename in os.listdir(path): # listing our files in the cwd. We can use the files = path\n",
    "        # for different dir. as  os.listdir(files)\n",
    "        if filename.endswith('.sav'): #selecting only the .sav file\n",
    "            df, meta = pyr.read_sav(filename, user_missing=True, apply_value_formats=True) #opening\n",
    "            #/reading the the SPSS(.sav ) in Jupyter notebook\n",
    "            dataframes.append(df) #creating list of dataframe\n",
    "            metas.append(meta) #creating list of codebook\n",
    "            for df in dataframes:\n",
    "                for filename in os.listdir(path):\n",
    "                    if filename.endswith('.sav'):\n",
    "                        df.to_csv(os.path.splitext(filename)[0]+'.csv')\n",
    "    for filename in os.listdir(path):\n",
    "        if filename.endswith('.csv'):\n",
    "            files.append(filename)\n",
    "    return files\n",
    "\n",
    "path = '/home/abera/converting_spss_csv'\n",
    "converting_files(path)"
   ]
  },
  {
   "cell_type": "code",
   "execution_count": null,
   "metadata": {},
   "outputs": [],
   "source": []
  }
 ],
 "metadata": {
  "kernelspec": {
   "display_name": "Python 3",
   "language": "python",
   "name": "python3"
  },
  "language_info": {
   "codemirror_mode": {
    "name": "ipython",
    "version": 3
   },
   "file_extension": ".py",
   "mimetype": "text/x-python",
   "name": "python",
   "nbconvert_exporter": "python",
   "pygments_lexer": "ipython3",
   "version": "3.7.6"
  }
 },
 "nbformat": 4,
 "nbformat_minor": 2
}
